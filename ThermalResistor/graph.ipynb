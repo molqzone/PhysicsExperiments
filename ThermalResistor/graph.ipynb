{
 "cells": [
  {
   "cell_type": "code",
   "execution_count": 32,
   "id": "a55157b1",
   "metadata": {},
   "outputs": [
    {
     "data": {
      "application/vnd.microsoft.datawrangler.viewer.v0+json": {
       "columns": [
        {
         "name": "index",
         "rawType": "int64",
         "type": "integer"
        },
        {
         "name": "t/℃",
         "rawType": "object",
         "type": "string"
        },
        {
         "name": "T/K",
         "rawType": "object",
         "type": "string"
        },
        {
         "name": "1/T (10^-2 K^-1)",
         "rawType": "object",
         "type": "string"
        },
        {
         "name": "R_T/Ω",
         "rawType": "object",
         "type": "string"
        },
        {
         "name": "ln R_T",
         "rawType": "object",
         "type": "string"
        },
        {
         "name": "-w/(%·K^-1)",
         "rawType": "object",
         "type": "string"
        },
        {
         "name": "N",
         "rawType": "object",
         "type": "string"
        }
       ],
       "conversionMethod": "pd.DataFrame",
       "ref": "32fd3cd2-4991-42d9-9359-8ea50a11f6ee",
       "rows": [
        [
         "0",
         "35",
         "308.0",
         "0.32468",
         "1831",
         "7.51262",
         "-18.31",
         "0.0"
        ],
        [
         "1",
         "40",
         "313.0",
         "0.31949",
         "1421",
         "7.25912",
         "-14.21",
         "12.0"
        ],
        [
         "2",
         "45",
         "318.0",
         "0.31447",
         "1241",
         "7.12367",
         "-12.41",
         "19.5"
        ],
        [
         "3",
         "50",
         "323.0",
         "0.3096",
         "1072",
         "6.97728",
         "-10.72",
         "28.4"
        ],
        [
         "4",
         "55",
         "328.0",
         "0.30488",
         "929",
         "6.83411",
         "-9.29",
         "40.0"
        ],
        [
         "5",
         "60",
         "333.0",
         "0.3003",
         "750.9",
         "6.62127",
         "-7.509",
         "55.9"
        ],
        [
         "6",
         "65",
         "338.0",
         "0.29586",
         "640.0",
         "6.46147",
         "-6.4",
         "67.0"
        ],
        [
         "7",
         "70",
         "343.0",
         "0.29155",
         "549.0",
         "6.3081",
         "-5.49",
         "79.0"
        ],
        [
         "8",
         "75",
         "348.0",
         "0.28736",
         "473.2",
         "6.15952",
         "-4.732",
         "91.0"
        ],
        [
         "9",
         "80",
         "353.0",
         "0.28329",
         "411.3",
         "6.01932",
         "-4.113",
         "100.0"
        ]
       ],
       "shape": {
        "columns": 7,
        "rows": 10
       }
      },
      "text/html": [
       "<div>\n",
       "<style scoped>\n",
       "    .dataframe tbody tr th:only-of-type {\n",
       "        vertical-align: middle;\n",
       "    }\n",
       "\n",
       "    .dataframe tbody tr th {\n",
       "        vertical-align: top;\n",
       "    }\n",
       "\n",
       "    .dataframe thead th {\n",
       "        text-align: right;\n",
       "    }\n",
       "</style>\n",
       "<table border=\"1\" class=\"dataframe\">\n",
       "  <thead>\n",
       "    <tr style=\"text-align: right;\">\n",
       "      <th></th>\n",
       "      <th>t/℃</th>\n",
       "      <th>T/K</th>\n",
       "      <th>1/T (10^-2 K^-1)</th>\n",
       "      <th>R_T/Ω</th>\n",
       "      <th>ln R_T</th>\n",
       "      <th>-w/(%·K^-1)</th>\n",
       "      <th>N</th>\n",
       "    </tr>\n",
       "  </thead>\n",
       "  <tbody>\n",
       "    <tr>\n",
       "      <th>0</th>\n",
       "      <td>35</td>\n",
       "      <td>308.0</td>\n",
       "      <td>0.32468</td>\n",
       "      <td>1831</td>\n",
       "      <td>7.51262</td>\n",
       "      <td>-18.31</td>\n",
       "      <td>0.0</td>\n",
       "    </tr>\n",
       "    <tr>\n",
       "      <th>1</th>\n",
       "      <td>40</td>\n",
       "      <td>313.0</td>\n",
       "      <td>0.31949</td>\n",
       "      <td>1421</td>\n",
       "      <td>7.25912</td>\n",
       "      <td>-14.21</td>\n",
       "      <td>12.0</td>\n",
       "    </tr>\n",
       "    <tr>\n",
       "      <th>2</th>\n",
       "      <td>45</td>\n",
       "      <td>318.0</td>\n",
       "      <td>0.31447</td>\n",
       "      <td>1241</td>\n",
       "      <td>7.12367</td>\n",
       "      <td>-12.41</td>\n",
       "      <td>19.5</td>\n",
       "    </tr>\n",
       "    <tr>\n",
       "      <th>3</th>\n",
       "      <td>50</td>\n",
       "      <td>323.0</td>\n",
       "      <td>0.3096</td>\n",
       "      <td>1072</td>\n",
       "      <td>6.97728</td>\n",
       "      <td>-10.72</td>\n",
       "      <td>28.4</td>\n",
       "    </tr>\n",
       "    <tr>\n",
       "      <th>4</th>\n",
       "      <td>55</td>\n",
       "      <td>328.0</td>\n",
       "      <td>0.30488</td>\n",
       "      <td>929</td>\n",
       "      <td>6.83411</td>\n",
       "      <td>-9.29</td>\n",
       "      <td>40.0</td>\n",
       "    </tr>\n",
       "    <tr>\n",
       "      <th>5</th>\n",
       "      <td>60</td>\n",
       "      <td>333.0</td>\n",
       "      <td>0.3003</td>\n",
       "      <td>750.9</td>\n",
       "      <td>6.62127</td>\n",
       "      <td>-7.509</td>\n",
       "      <td>55.9</td>\n",
       "    </tr>\n",
       "    <tr>\n",
       "      <th>6</th>\n",
       "      <td>65</td>\n",
       "      <td>338.0</td>\n",
       "      <td>0.29586</td>\n",
       "      <td>640.0</td>\n",
       "      <td>6.46147</td>\n",
       "      <td>-6.4</td>\n",
       "      <td>67.0</td>\n",
       "    </tr>\n",
       "    <tr>\n",
       "      <th>7</th>\n",
       "      <td>70</td>\n",
       "      <td>343.0</td>\n",
       "      <td>0.29155</td>\n",
       "      <td>549.0</td>\n",
       "      <td>6.3081</td>\n",
       "      <td>-5.49</td>\n",
       "      <td>79.0</td>\n",
       "    </tr>\n",
       "    <tr>\n",
       "      <th>8</th>\n",
       "      <td>75</td>\n",
       "      <td>348.0</td>\n",
       "      <td>0.28736</td>\n",
       "      <td>473.2</td>\n",
       "      <td>6.15952</td>\n",
       "      <td>-4.732</td>\n",
       "      <td>91.0</td>\n",
       "    </tr>\n",
       "    <tr>\n",
       "      <th>9</th>\n",
       "      <td>80</td>\n",
       "      <td>353.0</td>\n",
       "      <td>0.28329</td>\n",
       "      <td>411.3</td>\n",
       "      <td>6.01932</td>\n",
       "      <td>-4.113</td>\n",
       "      <td>100.0</td>\n",
       "    </tr>\n",
       "  </tbody>\n",
       "</table>\n",
       "</div>"
      ],
      "text/plain": [
       "  t/℃    T/K 1/T (10^-2 K^-1)  R_T/Ω   ln R_T -w/(%·K^-1)      N\n",
       "0  35  308.0          0.32468   1831  7.51262      -18.31    0.0\n",
       "1  40  313.0          0.31949   1421  7.25912      -14.21   12.0\n",
       "2  45  318.0          0.31447   1241  7.12367      -12.41   19.5\n",
       "3  50  323.0           0.3096   1072  6.97728      -10.72   28.4\n",
       "4  55  328.0          0.30488    929  6.83411       -9.29   40.0\n",
       "5  60  333.0           0.3003  750.9  6.62127      -7.509   55.9\n",
       "6  65  338.0          0.29586  640.0  6.46147        -6.4   67.0\n",
       "7  70  343.0          0.29155  549.0   6.3081       -5.49   79.0\n",
       "8  75  348.0          0.28736  473.2  6.15952      -4.732   91.0\n",
       "9  80  353.0          0.28329  411.3  6.01932      -4.113  100.0"
      ]
     },
     "execution_count": 32,
     "metadata": {},
     "output_type": "execute_result"
    }
   ],
   "source": [
    "import pandas as pd\n",
    "\n",
    "raw_path = r\"f:/@courseworks/PhysicsExperiments/ThermalResistor/processed_data.csv\"\n",
    "\n",
    "# Read all rows as lists, handling inconsistent columns\n",
    "with open(raw_path, encoding='utf-8') as f:\n",
    "    lines = [line.strip() for line in f if line.strip()]\n",
    "\n",
    "rows = [line.split(',') for line in lines]\n",
    "\n",
    "# Find the maximum number of columns\n",
    "max_cols = max(len(row) for row in rows)\n",
    "\n",
    "# Pad rows so all have the same length\n",
    "for row in rows:\n",
    "    row += [''] * (max_cols - len(row))\n",
    "\n",
    "# Extract variable names and their data\n",
    "data_dict = {}\n",
    "for row in rows:\n",
    "    key = row[0]\n",
    "    values = row[1:]\n",
    "    data_dict[key] = values\n",
    "\n",
    "# Convert to DataFrame (transpose so each variable is a column)\n",
    "df = pd.DataFrame(data_dict)\n",
    "df"
   ]
  },
  {
   "cell_type": "markdown",
   "id": "9173f1c9",
   "metadata": {},
   "source": [
    "# Plotting 1/T vs lnR_T\n",
    "This cell demonstrates how to plot the variation of $1/T$ with $\\ln R_T$ using matplotlib."
   ]
  },
  {
   "cell_type": "code",
   "execution_count": 33,
   "id": "73ea29f6",
   "metadata": {},
   "outputs": [
    {
     "data": {
      "image/png": "[encoded data removed]",
      "text/plain": [
       "<Figure size 700x500 with 1 Axes>"
      ]
     },
     "metadata": {},
     "output_type": "display_data"
    }
   ],
   "source": [
    "import matplotlib.pyplot as plt\n",
    "import numpy as np\n",
    "\n",
    "# Extract and clean 1/T and lnR_T columns (skip empty/invalid values)\n",
    "x = df['1/T (10^-2 K^-1)']\n",
    "y = df['ln R_T']\n",
    "\n",
    "# Convert to numeric, coerce errors to NaN, then drop NaNs\n",
    "x = pd.to_numeric(x, errors='coerce')\n",
    "y = pd.to_numeric(y, errors='coerce')\n",
    "mask = (~x.isna()) & (~y.isna())\n",
    "x = x[mask]\n",
    "y = y[mask]\n",
    "\n",
    "plt.figure(figsize=(7,5))\n",
    "plt.plot(x, y, 'o-', label='Data')\n",
    "plt.xlabel('1/T (10^-2 K^-1)')\n",
    "plt.ylabel('ln R_T')\n",
    "plt.title('Variation of 1/T with ln R_T')\n",
    "plt.grid(True)\n",
    "plt.legend()\n",
    "plt.show()"
   ]
  }
 ],
 "metadata": {
  "kernelspec": {
   "display_name": ".venv",
   "language": "python",
   "name": "python3"
  },
  "language_info": {
   "codemirror_mode": {
    "name": "ipython",
    "version": 3
   },
   "file_extension": ".py",
   "mimetype": "text/x-python",
   "name": "python",
   "nbconvert_exporter": "python",
   "pygments_lexer": "ipython3",
   "version": "3.13.2"
  }
 },
 "nbformat": 4,
 "nbformat_minor": 5
}
